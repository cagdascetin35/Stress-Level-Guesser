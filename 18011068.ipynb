{
 "cells": [
  {
   "cell_type": "code",
   "execution_count": 1,
   "id": "ec38c98e",
   "metadata": {},
   "outputs": [
    {
     "data": {
      "text/html": [
       "<div>\n",
       "<style scoped>\n",
       "    .dataframe tbody tr th:only-of-type {\n",
       "        vertical-align: middle;\n",
       "    }\n",
       "\n",
       "    .dataframe tbody tr th {\n",
       "        vertical-align: top;\n",
       "    }\n",
       "\n",
       "    .dataframe thead th {\n",
       "        text-align: right;\n",
       "    }\n",
       "</style>\n",
       "<table border=\"1\" class=\"dataframe\">\n",
       "  <thead>\n",
       "    <tr style=\"text-align: right;\">\n",
       "      <th></th>\n",
       "      <th>snoring_rate</th>\n",
       "      <th>respiration_rate</th>\n",
       "      <th>body_temperature</th>\n",
       "      <th>limb_movement</th>\n",
       "      <th>blood_oxygen</th>\n",
       "      <th>eye_movement</th>\n",
       "      <th>sleep_hour</th>\n",
       "      <th>heart_rate</th>\n",
       "      <th>stress_level</th>\n",
       "    </tr>\n",
       "  </thead>\n",
       "  <tbody>\n",
       "    <tr>\n",
       "      <th>0</th>\n",
       "      <td>93.80</td>\n",
       "      <td>22.928</td>\n",
       "      <td>89.160</td>\n",
       "      <td>16.600</td>\n",
       "      <td>89.424</td>\n",
       "      <td>88.76</td>\n",
       "      <td>2.696</td>\n",
       "      <td>58.88</td>\n",
       "      <td>3</td>\n",
       "    </tr>\n",
       "    <tr>\n",
       "      <th>1</th>\n",
       "      <td>91.64</td>\n",
       "      <td>19.952</td>\n",
       "      <td>95.344</td>\n",
       "      <td>15.880</td>\n",
       "      <td>93.608</td>\n",
       "      <td>81.68</td>\n",
       "      <td>3.824</td>\n",
       "      <td>58.72</td>\n",
       "      <td>3</td>\n",
       "    </tr>\n",
       "    <tr>\n",
       "      <th>2</th>\n",
       "      <td>60.00</td>\n",
       "      <td>16.224</td>\n",
       "      <td>98.664</td>\n",
       "      <td>10.000</td>\n",
       "      <td>92.624</td>\n",
       "      <td>101.36</td>\n",
       "      <td>5.816</td>\n",
       "      <td>55.40</td>\n",
       "      <td>1</td>\n",
       "    </tr>\n",
       "    <tr>\n",
       "      <th>3</th>\n",
       "      <td>85.76</td>\n",
       "      <td>25.744</td>\n",
       "      <td>93.072</td>\n",
       "      <td>13.920</td>\n",
       "      <td>89.040</td>\n",
       "      <td>98.64</td>\n",
       "      <td>3.176</td>\n",
       "      <td>69.32</td>\n",
       "      <td>3</td>\n",
       "    </tr>\n",
       "    <tr>\n",
       "      <th>4</th>\n",
       "      <td>48.12</td>\n",
       "      <td>19.824</td>\n",
       "      <td>98.712</td>\n",
       "      <td>6.496</td>\n",
       "      <td>95.864</td>\n",
       "      <td>88.12</td>\n",
       "      <td>1.824</td>\n",
       "      <td>50.68</td>\n",
       "      <td>0</td>\n",
       "    </tr>\n",
       "  </tbody>\n",
       "</table>\n",
       "</div>"
      ],
      "text/plain": [
       "   snoring_rate  respiration_rate  body_temperature  limb_movement  \\\n",
       "0         93.80            22.928            89.160         16.600   \n",
       "1         91.64            19.952            95.344         15.880   \n",
       "2         60.00            16.224            98.664         10.000   \n",
       "3         85.76            25.744            93.072         13.920   \n",
       "4         48.12            19.824            98.712          6.496   \n",
       "\n",
       "   blood_oxygen  eye_movement  sleep_hour  heart_rate  stress_level  \n",
       "0        89.424         88.76       2.696       58.88             3  \n",
       "1        93.608         81.68       3.824       58.72             3  \n",
       "2        92.624        101.36       5.816       55.40             1  \n",
       "3        89.040         98.64       3.176       69.32             3  \n",
       "4        95.864         88.12       1.824       50.68             0  "
      ]
     },
     "execution_count": 1,
     "metadata": {},
     "output_type": "execute_result"
    }
   ],
   "source": [
    "import pandas as pd\n",
    "import numpy as np\n",
    "import matplotlib.pyplot as plt\n",
    "df = pd.read_csv('SaYoPillow.csv')\n",
    "df.head()"
   ]
  },
  {
   "cell_type": "code",
   "execution_count": 2,
   "id": "257b42ff",
   "metadata": {},
   "outputs": [
    {
     "name": "stdout",
     "output_type": "stream",
     "text": [
      "<class 'pandas.core.frame.DataFrame'>\n",
      "RangeIndex: 630 entries, 0 to 629\n",
      "Data columns (total 9 columns):\n",
      " #   Column            Non-Null Count  Dtype  \n",
      "---  ------            --------------  -----  \n",
      " 0   snoring_rate      630 non-null    float64\n",
      " 1   respiration_rate  630 non-null    float64\n",
      " 2   body_temperature  630 non-null    float64\n",
      " 3   limb_movement     630 non-null    float64\n",
      " 4   blood_oxygen      630 non-null    float64\n",
      " 5   eye_movement      630 non-null    float64\n",
      " 6   sleep_hour        630 non-null    float64\n",
      " 7   heart_rate        630 non-null    float64\n",
      " 8   stress_level      630 non-null    int64  \n",
      "dtypes: float64(8), int64(1)\n",
      "memory usage: 44.4 KB\n"
     ]
    },
    {
     "data": {
      "text/plain": [
       "snoring_rate        0\n",
       "respiration_rate    0\n",
       "body_temperature    0\n",
       "limb_movement       0\n",
       "blood_oxygen        0\n",
       "eye_movement        0\n",
       "sleep_hour          0\n",
       "heart_rate          0\n",
       "stress_level        0\n",
       "dtype: int64"
      ]
     },
     "execution_count": 2,
     "metadata": {},
     "output_type": "execute_result"
    }
   ],
   "source": [
    "df.info()\n",
    "df.isnull().sum()"
   ]
  },
  {
   "cell_type": "code",
   "execution_count": 3,
   "id": "52c89ae5",
   "metadata": {},
   "outputs": [
    {
     "data": {
      "text/html": [
       "<div>\n",
       "<style scoped>\n",
       "    .dataframe tbody tr th:only-of-type {\n",
       "        vertical-align: middle;\n",
       "    }\n",
       "\n",
       "    .dataframe tbody tr th {\n",
       "        vertical-align: top;\n",
       "    }\n",
       "\n",
       "    .dataframe thead th {\n",
       "        text-align: right;\n",
       "    }\n",
       "</style>\n",
       "<table border=\"1\" class=\"dataframe\">\n",
       "  <thead>\n",
       "    <tr style=\"text-align: right;\">\n",
       "      <th></th>\n",
       "      <th>snoring_rate</th>\n",
       "      <th>respiration_rate</th>\n",
       "      <th>body_temperature</th>\n",
       "      <th>limb_movement</th>\n",
       "      <th>blood_oxygen</th>\n",
       "      <th>eye_movement</th>\n",
       "      <th>sleep_hour</th>\n",
       "      <th>heart_rate</th>\n",
       "      <th>stress_level</th>\n",
       "    </tr>\n",
       "  </thead>\n",
       "  <tbody>\n",
       "  </tbody>\n",
       "</table>\n",
       "</div>"
      ],
      "text/plain": [
       "Empty DataFrame\n",
       "Columns: [snoring_rate, respiration_rate, body_temperature, limb_movement, blood_oxygen, eye_movement, sleep_hour, heart_rate, stress_level]\n",
       "Index: []"
      ]
     },
     "execution_count": 3,
     "metadata": {},
     "output_type": "execute_result"
    }
   ],
   "source": [
    "df[df.duplicated()]"
   ]
  },
  {
   "cell_type": "code",
   "execution_count": 4,
   "id": "755352b9",
   "metadata": {},
   "outputs": [
    {
     "data": {
      "image/png": "[encoded data removed]",
      "text/plain": [
       "<Figure size 432x288 with 1 Axes>"
      ]
     },
     "metadata": {},
     "output_type": "display_data"
    }
   ],
   "source": [
    "import seaborn as sns\n",
    "sns.set_theme(style=\"darkgrid\")\n",
    "sns.countplot(x='stress_level', data=df, palette='Reds')\n",
    "plt.xlabel(\"Stres Dağılımı\")\n",
    "plt.ylabel(\"Sayı\")\n",
    "plt.show()"
   ]
  },
  {
   "cell_type": "code",
   "execution_count": 5,
   "id": "6ec985ed",
   "metadata": {},
   "outputs": [],
   "source": [
    "cont = []\n",
    "for feature in df.columns:\n",
    "    if feature == 'stress_level':\n",
    "        label = feature\n",
    "    else:\n",
    "        cont.append(feature)"
   ]
  },
  {
   "cell_type": "code",
   "execution_count": 6,
   "id": "ec15fae7",
   "metadata": {},
   "outputs": [
    {
     "data": {
      "text/html": [
       "<div>\n",
       "<style scoped>\n",
       "    .dataframe tbody tr th:only-of-type {\n",
       "        vertical-align: middle;\n",
       "    }\n",
       "\n",
       "    .dataframe tbody tr th {\n",
       "        vertical-align: top;\n",
       "    }\n",
       "\n",
       "    .dataframe thead th {\n",
       "        text-align: right;\n",
       "    }\n",
       "</style>\n",
       "<table border=\"1\" class=\"dataframe\">\n",
       "  <thead>\n",
       "    <tr style=\"text-align: right;\">\n",
       "      <th></th>\n",
       "      <th>snoring_rate</th>\n",
       "      <th>respiration_rate</th>\n",
       "      <th>body_temperature</th>\n",
       "      <th>limb_movement</th>\n",
       "      <th>blood_oxygen</th>\n",
       "      <th>eye_movement</th>\n",
       "      <th>sleep_hour</th>\n",
       "      <th>heart_rate</th>\n",
       "    </tr>\n",
       "  </thead>\n",
       "  <tbody>\n",
       "    <tr>\n",
       "      <th>0</th>\n",
       "      <td>0.887273</td>\n",
       "      <td>0.494857</td>\n",
       "      <td>0.297143</td>\n",
       "      <td>0.840000</td>\n",
       "      <td>0.494933</td>\n",
       "      <td>0.639111</td>\n",
       "      <td>0.299556</td>\n",
       "      <td>0.253714</td>\n",
       "    </tr>\n",
       "    <tr>\n",
       "      <th>1</th>\n",
       "      <td>0.848000</td>\n",
       "      <td>0.282286</td>\n",
       "      <td>0.738857</td>\n",
       "      <td>0.792000</td>\n",
       "      <td>0.773867</td>\n",
       "      <td>0.481778</td>\n",
       "      <td>0.424889</td>\n",
       "      <td>0.249143</td>\n",
       "    </tr>\n",
       "    <tr>\n",
       "      <th>2</th>\n",
       "      <td>0.272727</td>\n",
       "      <td>0.016000</td>\n",
       "      <td>0.976000</td>\n",
       "      <td>0.400000</td>\n",
       "      <td>0.708267</td>\n",
       "      <td>0.919111</td>\n",
       "      <td>0.646222</td>\n",
       "      <td>0.154286</td>\n",
       "    </tr>\n",
       "    <tr>\n",
       "      <th>3</th>\n",
       "      <td>0.741091</td>\n",
       "      <td>0.696000</td>\n",
       "      <td>0.576571</td>\n",
       "      <td>0.661333</td>\n",
       "      <td>0.469333</td>\n",
       "      <td>0.858667</td>\n",
       "      <td>0.352889</td>\n",
       "      <td>0.552000</td>\n",
       "    </tr>\n",
       "    <tr>\n",
       "      <th>4</th>\n",
       "      <td>0.056727</td>\n",
       "      <td>0.273143</td>\n",
       "      <td>0.979429</td>\n",
       "      <td>0.166400</td>\n",
       "      <td>0.924267</td>\n",
       "      <td>0.624889</td>\n",
       "      <td>0.202667</td>\n",
       "      <td>0.019429</td>\n",
       "    </tr>\n",
       "  </tbody>\n",
       "</table>\n",
       "</div>"
      ],
      "text/plain": [
       "   snoring_rate  respiration_rate  body_temperature  limb_movement  \\\n",
       "0      0.887273          0.494857          0.297143       0.840000   \n",
       "1      0.848000          0.282286          0.738857       0.792000   \n",
       "2      0.272727          0.016000          0.976000       0.400000   \n",
       "3      0.741091          0.696000          0.576571       0.661333   \n",
       "4      0.056727          0.273143          0.979429       0.166400   \n",
       "\n",
       "   blood_oxygen  eye_movement  sleep_hour  heart_rate  \n",
       "0      0.494933      0.639111    0.299556    0.253714  \n",
       "1      0.773867      0.481778    0.424889    0.249143  \n",
       "2      0.708267      0.919111    0.646222    0.154286  \n",
       "3      0.469333      0.858667    0.352889    0.552000  \n",
       "4      0.924267      0.624889    0.202667    0.019429  "
      ]
     },
     "execution_count": 6,
     "metadata": {},
     "output_type": "execute_result"
    }
   ],
   "source": [
    "from sklearn.preprocessing import MinMaxScaler\n",
    "scale = MinMaxScaler(feature_range=(0,1))\n",
    "scale.fit(df[cont])\n",
    "scaled_cont = scale.transform(df[cont])\n",
    "scaled_cont = pd.DataFrame(data=scaled_cont, columns=['snoring_rate','respiration_rate','body_temperature','limb_movement','blood_oxygen','eye_movement','sleep_hour','heart_rate'])\n",
    "scaled_cont.head()"
   ]
  },
  {
   "cell_type": "code",
   "execution_count": 7,
   "id": "71a02db3",
   "metadata": {},
   "outputs": [],
   "source": [
    "from sklearn.model_selection import train_test_split\n",
    "x = scaled_cont\n",
    "y = df[label]\n",
    "x_train, x_test, y_train, y_test = train_test_split(x, y ,test_size=0.20)\n",
    "sonuc = []\n",
    "algo = [\"Random Forest\",\"KNN\",\"Naive Bayes\"]"
   ]
  },
  {
   "cell_type": "code",
   "execution_count": 14,
   "id": "79e3baa1",
   "metadata": {},
   "outputs": [
    {
     "data": {
      "image/png": "[encoded data removed]",
      "text/plain": [
       "<Figure size 432x288 with 1 Axes>"
      ]
     },
     "metadata": {},
     "output_type": "display_data"
    },
    {
     "name": "stdout",
     "output_type": "stream",
     "text": [
      "Random Forest Metrics: \n",
      "              precision    recall  f1-score   support\n",
      "\n",
      "           0       0.95      1.00      0.98        21\n",
      "           1       1.00      0.93      0.96        28\n",
      "           2       0.97      1.00      0.99        34\n",
      "           3       1.00      0.94      0.97        16\n",
      "           4       0.96      1.00      0.98        27\n",
      "\n",
      "    accuracy                           0.98       126\n",
      "   macro avg       0.98      0.97      0.97       126\n",
      "weighted avg       0.98      0.98      0.98       126\n",
      "\n",
      "Random Forest Confusion Matrix: \n",
      "[[21  0  0  0  0]\n",
      " [ 1 26  1  0  0]\n",
      " [ 0  0 34  0  0]\n",
      " [ 0  0  0 15  1]\n",
      " [ 0  0  0  0 27]]\n",
      "Accuracy: 0.976190\n",
      "Precision: 0.978052\n",
      "Recall: 0.973214\n",
      "Max Accuracy Ağaç Sayısı: 37\n"
     ]
    }
   ],
   "source": [
    "from sklearn.ensemble import RandomForestClassifier\n",
    "from sklearn.metrics import accuracy_score\n",
    "from sklearn.metrics import precision_score\n",
    "from sklearn.metrics import recall_score\n",
    "from sklearn.metrics import f1_score\n",
    "from sklearn.metrics import confusion_matrix\n",
    "from sklearn import metrics\n",
    "from copy import deepcopy\n",
    "max = 0\n",
    "number = 0\n",
    "max_x_train = ()\n",
    "max_y_train = ()\n",
    "max_x_test = ()\n",
    "max_y_test = ()\n",
    "\n",
    "n_range = range(1,51)\n",
    "score = []\n",
    "\n",
    "for n in n_range:\n",
    "    rf_model = RandomForestClassifier(n_estimators=n) #, max_depth=2)\n",
    "    rf_model.fit(x_train, y_train)\n",
    "    score.append(rf_model.score(x_test, y_test))\n",
    "    prediction = rf_model.predict(x_test)\n",
    "    accuracy = accuracy_score(y_test, prediction)\n",
    "    \n",
    "    if accuracy > max:\n",
    "        max = accuracy\n",
    "        max_rf_model = deepcopy(rf_model)\n",
    "        max_x_train = deepcopy(x_train)\n",
    "        max_y_train = deepcopy(y_train)\n",
    "        max_x_test = deepcopy(x_test)\n",
    "        max_y_test = deepcopy(y_test)\n",
    "        number = n\n",
    "\n",
    "plt.figure()\n",
    "plt.xlabel('Ağaç Sayısı')\n",
    "plt.ylabel('Accuracy')\n",
    "plt.scatter(n_range, score)\n",
    "plt.xticks(range(1,51,2))\n",
    "plt.show()\n",
    "\n",
    "print(\"Random Forest Metrics: \")\n",
    "print(metrics.classification_report(max_y_test, prediction))\n",
    "\n",
    "print(\"Random Forest Confusion Matrix: \")\n",
    "prediction = rf_model.predict(max_x_test)\n",
    "print(confusion_matrix(max_y_test, prediction))\n",
    "\n",
    "# accuracy: (tp + tn) / (p + n)\n",
    "accuracy = accuracy_score(max_y_test, prediction)\n",
    "sonuc.append(accuracy)\n",
    "print('Accuracy: %f' % accuracy)\n",
    "\n",
    "# precision tp / (tp + fp)\n",
    "precision = precision_score(max_y_test, prediction, average = 'macro')\n",
    "print('Precision: %f' % precision)\n",
    "\n",
    "# recall: tp / (tp + fn)\n",
    "recall = recall_score(max_y_test, prediction, average = 'macro')\n",
    "print('Recall: %f' % recall)\n",
    "\n",
    "print('Max Accuracy Ağaç Sayısı: %d' % number)"
   ]
  },
  {
   "cell_type": "code",
   "execution_count": 15,
   "id": "003c6bd2",
   "metadata": {},
   "outputs": [
    {
     "data": {
      "image/png": "[encoded data removed]",
      "text/plain": [
       "<Figure size 432x288 with 1 Axes>"
      ]
     },
     "metadata": {},
     "output_type": "display_data"
    },
    {
     "name": "stdout",
     "output_type": "stream",
     "text": [
      "KNN Metrics: \n",
      "              precision    recall  f1-score   support\n",
      "\n",
      "           0       0.82      0.86      0.84        21\n",
      "           1       0.71      0.79      0.75        28\n",
      "           2       0.89      0.71      0.79        34\n",
      "           3       0.56      0.88      0.68        16\n",
      "           4       0.95      0.74      0.83        27\n",
      "\n",
      "    accuracy                           0.78       126\n",
      "   macro avg       0.79      0.79      0.78       126\n",
      "weighted avg       0.81      0.78      0.78       126\n",
      "\n",
      "KNN Confusion Matrix:\n",
      "[[18  3  0  0  0]\n",
      " [ 4 22  2  0  0]\n",
      " [ 0  6 24  4  0]\n",
      " [ 0  0  1 14  1]\n",
      " [ 0  0  0  7 20]]\n",
      "Accuracy: 0.777778\n",
      "Precision: 0.785826\n",
      "Recall: 0.792896\n",
      "Max Accuracy Komşu Sayısı: 27\n"
     ]
    }
   ],
   "source": [
    "from sklearn.neighbors import KNeighborsClassifier\n",
    "\n",
    "max = 0\n",
    "number = 0\n",
    "max_x_train = ()\n",
    "max_y_train = ()\n",
    "max_x_test = ()\n",
    "max_y_test = ()\n",
    "\n",
    "k_range = range(1,51)\n",
    "kscore = []\n",
    "\n",
    "for k in k_range:\n",
    "    knn = KNeighborsClassifier(n_neighbors = k)\n",
    "    knn.fit(x_train, y_train)\n",
    "    kscore.append(knn.score(x_test, y_test))\n",
    "    \n",
    "    prediction = knn.predict(x_test)\n",
    "    accuracy = accuracy_score(y_test, prediction)\n",
    "    \n",
    "    if accuracy > max:\n",
    "        max = accuracy\n",
    "        max_knn = deepcopy(knn)\n",
    "        max_x_train = deepcopy(x_train)\n",
    "        max_y_train = deepcopy(y_train)\n",
    "        max_x_test = deepcopy(x_test)\n",
    "        max_y_test = deepcopy(y_test)\n",
    "        number = k\n",
    "\n",
    "plt.figure()\n",
    "plt.xlabel('Komşu Sayısı')\n",
    "plt.ylabel('Accuracy')\n",
    "plt.scatter(k_range, kscore)\n",
    "plt.xticks(range(1,51,2))\n",
    "plt.show()\n",
    "\n",
    "\n",
    "prediction = max_knn.predict(max_x_test)\n",
    "\n",
    "print(\"KNN Metrics: \")\n",
    "print(metrics.classification_report(max_y_test, prediction))\n",
    "\n",
    "print(\"KNN Confusion Matrix:\")\n",
    "print(confusion_matrix(max_y_test, prediction))\n",
    "\n",
    "accuracy = accuracy_score(max_y_test, prediction)\n",
    "sonuc.append(accuracy)\n",
    "print(\"Accuracy: %f\" % accuracy)\n",
    "\n",
    "precision = precision_score(max_y_test, prediction, average = 'macro')\n",
    "print('Precision: %f' % precision)\n",
    "\n",
    "recall = recall_score(max_y_test, prediction, average = 'macro')\n",
    "print('Recall: %f' % recall)\n",
    "\n",
    "print(\"Max Accuracy Komşu Sayısı: %d\" % number)"
   ]
  },
  {
   "cell_type": "code",
   "execution_count": 10,
   "id": "dedb1ab7",
   "metadata": {},
   "outputs": [
    {
     "name": "stdout",
     "output_type": "stream",
     "text": [
      "Train Accuracy:\n"
     ]
    },
    {
     "data": {
      "text/plain": [
       "0.9841269841269841"
      ]
     },
     "execution_count": 10,
     "metadata": {},
     "output_type": "execute_result"
    }
   ],
   "source": [
    "from sklearn.naive_bayes import GaussianNB\n",
    "nb_model = GaussianNB()\n",
    "nb_model.fit(x_train, y_train)\n",
    "print(\"Train Accuracy:\")\n",
    "nb_model.score(x_train, y_train)"
   ]
  },
  {
   "cell_type": "code",
   "execution_count": 11,
   "id": "72955a08",
   "metadata": {},
   "outputs": [
    {
     "name": "stdout",
     "output_type": "stream",
     "text": [
      "Test Accuracy:\n"
     ]
    },
    {
     "data": {
      "text/plain": [
       "0.9920634920634921"
      ]
     },
     "execution_count": 11,
     "metadata": {},
     "output_type": "execute_result"
    }
   ],
   "source": [
    "print(\"Test Accuracy:\")\n",
    "nb_model.score(x_test, y_test)"
   ]
  },
  {
   "cell_type": "code",
   "execution_count": 12,
   "id": "2daaa866",
   "metadata": {},
   "outputs": [
    {
     "name": "stdout",
     "output_type": "stream",
     "text": [
      "Naive Bayes Metrics: \n",
      "              precision    recall  f1-score   support\n",
      "\n",
      "           0       1.00      1.00      1.00        21\n",
      "           1       1.00      1.00      1.00        28\n",
      "           2       1.00      1.00      1.00        34\n",
      "           3       1.00      0.94      0.97        16\n",
      "           4       0.96      1.00      0.98        27\n",
      "\n",
      "    accuracy                           0.99       126\n",
      "   macro avg       0.99      0.99      0.99       126\n",
      "weighted avg       0.99      0.99      0.99       126\n",
      "\n",
      "Naive Bayes Confusion Matrix:\n",
      "[[21  0  0  0  0]\n",
      " [ 0 28  0  0  0]\n",
      " [ 0  0 34  0  0]\n",
      " [ 0  0  0 15  1]\n",
      " [ 0  0  0  0 27]]\n",
      "Accuracy: 0.992063\n",
      "Precision: 0.992857\n",
      "Recall: 0.987500\n"
     ]
    }
   ],
   "source": [
    "prediction = nb_model.predict(x_test)\n",
    "\n",
    "print(\"Naive Bayes Metrics: \")\n",
    "print(metrics.classification_report(max_y_test, prediction))\n",
    "\n",
    "print(\"Naive Bayes Confusion Matrix:\")\n",
    "print(confusion_matrix(y_test, prediction))\n",
    "\n",
    "# accuracy: (tp + tn) / (p + n)\n",
    "accuracy = accuracy_score(y_test, prediction)\n",
    "sonuc.append(accuracy)\n",
    "print('Accuracy: %f' % accuracy)\n",
    "\n",
    "# precision tp / (tp + fp)\n",
    "precision = precision_score(y_test, prediction, average = 'macro')\n",
    "print('Precision: %f' % precision)\n",
    "\n",
    "# recall: tp / (tp + fn)\n",
    "recall = recall_score(y_test, prediction, average = 'macro')\n",
    "print('Recall: %f' % recall)"
   ]
  },
  {
   "cell_type": "code",
   "execution_count": 13,
   "id": "93d6b071",
   "metadata": {},
   "outputs": [
    {
     "data": {
      "image/png": "[encoded data removed]",
      "text/plain": [
       "<Figure size 432x288 with 1 Axes>"
      ]
     },
     "metadata": {},
     "output_type": "display_data"
    }
   ],
   "source": [
    "plt.bar(algo,sonuc,color=\"turquoise\")\n",
    "plt.xlabel('Algoritmalar')\n",
    "plt.ylabel('Accuracy')\n",
    "plt.show()"
   ]
  },
  {
   "cell_type": "code",
   "execution_count": null,
   "id": "7e44a1de",
   "metadata": {},
   "outputs": [],
   "source": []
  }
 ],
 "metadata": {
  "kernelspec": {
   "display_name": "Python 3 (ipykernel)",
   "language": "python",
   "name": "python3"
  },
  "language_info": {
   "codemirror_mode": {
    "name": "ipython",
    "version": 3
   },
   "file_extension": ".py",
   "mimetype": "text/x-python",
   "name": "python",
   "nbconvert_exporter": "python",
   "pygments_lexer": "ipython3",
   "version": "3.9.13"
  }
 },
 "nbformat": 4,
 "nbformat_minor": 5
}
